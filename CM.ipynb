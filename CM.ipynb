{
  "nbformat": 4,
  "nbformat_minor": 0,
  "metadata": {
    "colab": {
      "provenance": [],
      "gpuType": "T4",
      "mount_file_id": "1lt_grtFR4S4fcZcjvaico4BJsNdMtdQ0",
      "authorship_tag": "ABX9TyMfgY8v3tYm6D/N2KfmE6db",
      "include_colab_link": true
    },
    "kernelspec": {
      "name": "python3",
      "display_name": "Python 3"
    },
    "language_info": {
      "name": "python"
    },
    "accelerator": "GPU"
  },
  "cells": [
    {
      "cell_type": "markdown",
      "metadata": {
        "id": "view-in-github",
        "colab_type": "text"
      },
      "source": [
        "<a href=\"https://colab.research.google.com/github/Saatvik07/CM_Project_2023/blob/main/CM.ipynb\" target=\"_parent\"><img src=\"https://colab.research.google.com/assets/colab-badge.svg\" alt=\"Open In Colab\"/></a>"
      ]
    },
    {
      "cell_type": "code",
      "source": [
        "# !pip install -r requirements.txt\n",
        "\n",
        "!pip install pretrainedmodels"
      ],
      "metadata": {
        "id": "PYg8yYasbZlv",
        "outputId": "5d2c179c-37f5-41d6-d42b-82cbd76e1791",
        "colab": {
          "base_uri": "https://localhost:8080/"
        }
      },
      "execution_count": null,
      "outputs": [
        {
          "output_type": "stream",
          "name": "stdout",
          "text": [
            "Requirement already satisfied: pretrainedmodels in /usr/local/lib/python3.10/dist-packages (0.7.4)\n",
            "Requirement already satisfied: torch in /usr/local/lib/python3.10/dist-packages (from pretrainedmodels) (2.1.0+cu118)\n",
            "Requirement already satisfied: torchvision in /usr/local/lib/python3.10/dist-packages (from pretrainedmodels) (0.16.0+cu118)\n",
            "Requirement already satisfied: munch in /usr/local/lib/python3.10/dist-packages (from pretrainedmodels) (4.0.0)\n",
            "Requirement already satisfied: tqdm in /usr/local/lib/python3.10/dist-packages (from pretrainedmodels) (4.66.1)\n",
            "Requirement already satisfied: filelock in /usr/local/lib/python3.10/dist-packages (from torch->pretrainedmodels) (3.13.1)\n",
            "Requirement already satisfied: typing-extensions in /usr/local/lib/python3.10/dist-packages (from torch->pretrainedmodels) (4.5.0)\n",
            "Requirement already satisfied: sympy in /usr/local/lib/python3.10/dist-packages (from torch->pretrainedmodels) (1.12)\n",
            "Requirement already satisfied: networkx in /usr/local/lib/python3.10/dist-packages (from torch->pretrainedmodels) (3.2.1)\n",
            "Requirement already satisfied: jinja2 in /usr/local/lib/python3.10/dist-packages (from torch->pretrainedmodels) (3.1.2)\n",
            "Requirement already satisfied: fsspec in /usr/local/lib/python3.10/dist-packages (from torch->pretrainedmodels) (2023.6.0)\n",
            "Requirement already satisfied: triton==2.1.0 in /usr/local/lib/python3.10/dist-packages (from torch->pretrainedmodels) (2.1.0)\n",
            "Requirement already satisfied: numpy in /usr/local/lib/python3.10/dist-packages (from torchvision->pretrainedmodels) (1.23.5)\n",
            "Requirement already satisfied: requests in /usr/local/lib/python3.10/dist-packages (from torchvision->pretrainedmodels) (2.31.0)\n",
            "Requirement already satisfied: pillow!=8.3.*,>=5.3.0 in /usr/local/lib/python3.10/dist-packages (from torchvision->pretrainedmodels) (9.4.0)\n",
            "Requirement already satisfied: MarkupSafe>=2.0 in /usr/local/lib/python3.10/dist-packages (from jinja2->torch->pretrainedmodels) (2.1.3)\n",
            "Requirement already satisfied: charset-normalizer<4,>=2 in /usr/local/lib/python3.10/dist-packages (from requests->torchvision->pretrainedmodels) (3.3.2)\n",
            "Requirement already satisfied: idna<4,>=2.5 in /usr/local/lib/python3.10/dist-packages (from requests->torchvision->pretrainedmodels) (3.6)\n",
            "Requirement already satisfied: urllib3<3,>=1.21.1 in /usr/local/lib/python3.10/dist-packages (from requests->torchvision->pretrainedmodels) (2.0.7)\n",
            "Requirement already satisfied: certifi>=2017.4.17 in /usr/local/lib/python3.10/dist-packages (from requests->torchvision->pretrainedmodels) (2023.11.17)\n",
            "Requirement already satisfied: mpmath>=0.19 in /usr/local/lib/python3.10/dist-packages (from sympy->torch->pretrainedmodels) (1.3.0)\n"
          ]
        }
      ]
    },
    {
      "cell_type": "code",
      "source": [
        "!sh ./bin/preprocess.sh"
      ],
      "metadata": {
        "colab": {
          "base_uri": "https://localhost:8080/"
        },
        "id": "DuaxsWRA1L-F",
        "outputId": "11d11a91-0319-4642-a6fe-2f3045894036"
      },
      "execution_count": null,
      "outputs": [
        {
          "output_type": "stream",
          "name": "stdout",
          "text": [
            "['/content/kaggle-rsna-intracranial-hemorrhage/src/preprocess/dicom_to_dataframe.py', '--input', './input/stage_2_train.csv', '--output', './cache/train_raw.pkl', '--imgdir', './input/stage_2_train_images']\n",
            "read ./input/stage_2_train.csv (6 records)\n",
            "\r  0% 0/6 [00:00<?, ?it/s]\r100% 6/6 [00:00<00:00, 89877.94it/s]\n",
            "ID_6431af929 not found\n",
            "making records...\n",
            "\r  0% 0/1 [00:00<?, ?it/s]/usr/local/lib/python3.10/dist-packages/pydicom/valuerep.py:443: UserWarning: Invalid value for VR UI: 'ID_000012eaf'. Please see <https://dicom.nema.org/medical/dicom/current/output/html/part05.html#table_6.2-1> for allowed values for each VR.\n",
            "  warnings.warn(msg)\n",
            "/usr/local/lib/python3.10/dist-packages/pydicom/valuerep.py:443: UserWarning: Invalid value for VR UI: 'ID_0ab5820b2a'. Please see <https://dicom.nema.org/medical/dicom/current/output/html/part05.html#table_6.2-1> for allowed values for each VR.\n",
            "  warnings.warn(msg)\n",
            "/usr/local/lib/python3.10/dist-packages/pydicom/valuerep.py:443: UserWarning: Invalid value for VR UI: 'ID_30ea2b02d4'. Please see <https://dicom.nema.org/medical/dicom/current/output/html/part05.html#table_6.2-1> for allowed values for each VR.\n",
            "  warnings.warn(msg)\n",
            "/usr/local/lib/python3.10/dist-packages/pydicom/valuerep.py:443: UserWarning: Invalid value for VR UI: 'ID_000012eaf'. Please see <https://dicom.nema.org/medical/dicom/current/output/html/part05.html#table_6.2-1> for allowed values for each VR.\n",
            "  warnings.warn(msg)\n",
            "/usr/local/lib/python3.10/dist-packages/pydicom/valuerep.py:443: UserWarning: Invalid value for VR UI: 'ID_0ab5820b2a'. Please see <https://dicom.nema.org/medical/dicom/current/output/html/part05.html#table_6.2-1> for allowed values for each VR.\n",
            "  warnings.warn(msg)\n",
            "/usr/local/lib/python3.10/dist-packages/pydicom/valuerep.py:443: UserWarning: Invalid value for VR UI: 'ID_30ea2b02d4'. Please see <https://dicom.nema.org/medical/dicom/current/output/html/part05.html#table_6.2-1> for allowed values for each VR.\n",
            "  warnings.warn(msg)\n",
            "\r100% 1/1 [00:00<00:00, 29.31it/s]\n",
            "converted dicom to dataframe (1 records)\n",
            "saved to ./cache/train_raw.pkl\n",
            "['/content/kaggle-rsna-intracranial-hemorrhage/src/preprocess/create_dataset.py', '--input', './cache/train_raw.pkl', '--output', './cache/train.pkl', '--brain-diff', '60']\n",
            "/usr/local/lib/python3.10/dist-packages/pydicom/valuerep.py:443: UserWarning: Invalid value for VR UI: 'ID_000012eaf'. Please see <https://dicom.nema.org/medical/dicom/current/output/html/part05.html#table_6.2-1> for allowed values for each VR.\n",
            "  warnings.warn(msg)\n",
            "/usr/local/lib/python3.10/dist-packages/pydicom/valuerep.py:443: UserWarning: Invalid value for VR UI: 'ID_0ab5820b2a'. Please see <https://dicom.nema.org/medical/dicom/current/output/html/part05.html#table_6.2-1> for allowed values for each VR.\n",
            "  warnings.warn(msg)\n",
            "/usr/local/lib/python3.10/dist-packages/pydicom/valuerep.py:443: UserWarning: Invalid value for VR UI: 'ID_30ea2b02d4'. Please see <https://dicom.nema.org/medical/dicom/current/output/html/part05.html#table_6.2-1> for allowed values for each VR.\n",
            "  warnings.warn(msg)\n",
            "read ./cache/train_raw.pkl (1 records)\n",
            "defaultdict(<class 'int'>, {'negative': 1, 'all': 1})\n",
            "excluded records by brain_diff (1 records now)\n",
            "making adjacent labels...\n",
            "100% 1/1 [00:00<00:00, 1088.58it/s]\n",
            "defaultdict(<class 'int'>, {'negative': 1, 'all': 1})\n",
            "created dataset (1 records)\n",
            "saved to ./cache/train.pkl\n",
            "['/content/kaggle-rsna-intracranial-hemorrhage/src/preprocess/make_folds.py', '--input', './cache/train.pkl', '--output', './cache/train_folds8_seed300.pkl', '--n-fold', '8', '--seed', '300']\n",
            "making 8 folds...\n",
            "100% 1/1 [00:00<00:00, 579.72it/s]\n",
            "Counter({(5, ''): 1})\n",
            "saved to ./cache/train_folds8_seed300.pkl\n",
            "['/content/kaggle-rsna-intracranial-hemorrhage/src/preprocess/dicom_to_dataframe.py', '--input', './input/stage_2_sample_submission.csv', '--output', './cache/test_raw.pkl', '--imgdir', './input/stage_2_test_images']\n",
            "read ./input/stage_2_sample_submission.csv (6 records)\n",
            "100% 6/6 [00:00<00:00, 90851.35it/s]\n",
            "ID_6431af929 not found\n",
            "making records...\n",
            "  0% 0/1 [00:00<?, ?it/s]/usr/local/lib/python3.10/dist-packages/pydicom/valuerep.py:443: UserWarning: Invalid value for VR UI: 'ID_000012eaf'. Please see <https://dicom.nema.org/medical/dicom/current/output/html/part05.html#table_6.2-1> for allowed values for each VR.\n",
            "  warnings.warn(msg)\n",
            "/usr/local/lib/python3.10/dist-packages/pydicom/valuerep.py:443: UserWarning: Invalid value for VR UI: 'ID_0ab5820b2a'. Please see <https://dicom.nema.org/medical/dicom/current/output/html/part05.html#table_6.2-1> for allowed values for each VR.\n",
            "  warnings.warn(msg)\n",
            "/usr/local/lib/python3.10/dist-packages/pydicom/valuerep.py:443: UserWarning: Invalid value for VR UI: 'ID_30ea2b02d4'. Please see <https://dicom.nema.org/medical/dicom/current/output/html/part05.html#table_6.2-1> for allowed values for each VR.\n",
            "  warnings.warn(msg)\n",
            "/usr/local/lib/python3.10/dist-packages/pydicom/valuerep.py:443: UserWarning: Invalid value for VR UI: 'ID_000012eaf'. Please see <https://dicom.nema.org/medical/dicom/current/output/html/part05.html#table_6.2-1> for allowed values for each VR.\n",
            "  warnings.warn(msg)\n",
            "/usr/local/lib/python3.10/dist-packages/pydicom/valuerep.py:443: UserWarning: Invalid value for VR UI: 'ID_0ab5820b2a'. Please see <https://dicom.nema.org/medical/dicom/current/output/html/part05.html#table_6.2-1> for allowed values for each VR.\n",
            "  warnings.warn(msg)\n",
            "/usr/local/lib/python3.10/dist-packages/pydicom/valuerep.py:443: UserWarning: Invalid value for VR UI: 'ID_30ea2b02d4'. Please see <https://dicom.nema.org/medical/dicom/current/output/html/part05.html#table_6.2-1> for allowed values for each VR.\n",
            "  warnings.warn(msg)\n",
            "100% 1/1 [00:00<00:00, 57.92it/s]\n",
            "converted dicom to dataframe (1 records)\n",
            "saved to ./cache/test_raw.pkl\n",
            "['/content/kaggle-rsna-intracranial-hemorrhage/src/preprocess/create_dataset.py', '--input', './cache/test_raw.pkl', '--output', './cache/test.pkl', '--brain-diff', '60']\n",
            "/usr/local/lib/python3.10/dist-packages/pydicom/valuerep.py:443: UserWarning: Invalid value for VR UI: 'ID_000012eaf'. Please see <https://dicom.nema.org/medical/dicom/current/output/html/part05.html#table_6.2-1> for allowed values for each VR.\n",
            "  warnings.warn(msg)\n",
            "/usr/local/lib/python3.10/dist-packages/pydicom/valuerep.py:443: UserWarning: Invalid value for VR UI: 'ID_0ab5820b2a'. Please see <https://dicom.nema.org/medical/dicom/current/output/html/part05.html#table_6.2-1> for allowed values for each VR.\n",
            "  warnings.warn(msg)\n",
            "/usr/local/lib/python3.10/dist-packages/pydicom/valuerep.py:443: UserWarning: Invalid value for VR UI: 'ID_30ea2b02d4'. Please see <https://dicom.nema.org/medical/dicom/current/output/html/part05.html#table_6.2-1> for allowed values for each VR.\n",
            "  warnings.warn(msg)\n",
            "read ./cache/test_raw.pkl (1 records)\n",
            "defaultdict(<class 'int'>, {'negative': 1, 'all': 1})\n",
            "excluded records by brain_diff (1 records now)\n",
            "making adjacent labels...\n",
            "100% 1/1 [00:00<00:00, 1443.82it/s]\n",
            "defaultdict(<class 'int'>, {'negative': 1, 'all': 1})\n",
            "created dataset (1 records)\n",
            "saved to ./cache/test.pkl\n"
          ]
        }
      ]
    },
    {
      "cell_type": "code",
      "source": [
        "!sh ./bin/predict.sh"
      ],
      "metadata": {
        "id": "oGq-grVoj2u7",
        "colab": {
          "base_uri": "https://localhost:8080/"
        },
        "outputId": "5c1923d4-32c7-4ec3-fd4f-c24bc5103425"
      },
      "execution_count": null,
      "outputs": [
        {
          "output_type": "stream",
          "name": "stdout",
          "text": [
            "benchmark False\n",
            "\n",
            "----- 2023-12-12 17:46:22 -----\n",
            "/content/kaggle-rsna-intracranial-hemorrhage/src/cnn/main.py test ./conf/model100.py --snapshot ../drive/MyDrive/CM_Project_Dataset/fold0_ep2.pt --output ./model/model100/fold0_ep2_test_tta5.pkl --n-tta 5 --fold 0 --gpu 0\n",
            "logpath: ./model/model100/test_fold0.log\n",
            "mode: test\n",
            "workdir: ./model/model100\n",
            "fold: 0\n",
            "batch size: 28\n",
            "acc: 1\n",
            "model: se_resnext50_32x4d\n",
            "pretrained: imagenet\n",
            "not loading optim\n",
            "loaded model from ../drive/MyDrive/CM_Project_Dataset/fold0_ep2.pt\n",
            "dataset_policy: 1\n",
            "window_policy: 4\n",
            "             ID labels    PatientID  ...  PixelRepresentation  brain_ratio  brain_diff\n",
            "0  ID_000012eaf         ID_f15c0eee  ...                    1      0.22364        80.0\n",
            "\n",
            "[1 rows x 15 columns]\n",
            "None\n",
            "applied dataset_policy 1 (1 records now)\n",
            "use default(random) sampler\n",
            "/usr/local/lib/python3.10/dist-packages/torch/utils/data/dataloader.py:557: UserWarning: This DataLoader will create 4 worker processes in total. Our suggested max number of worker in current system is 2, which is smaller than what this DataLoader is going to create. Please be aware that excessive worker creation might get DataLoader running slow or even freeze, lower the worker number to avoid potential slowness/freeze if necessary.\n",
            "  warnings.warn(_create_warning_msg(\n",
            "[test] 1/1 0(s) eta:0(s) loss:0.000000 loss200:0.000000 lr:0.00e+00/content/kaggle-rsna-intracranial-hemorrhage/src/cnn/main.py:208: RuntimeWarning: invalid value encountered in double_scalars\n",
            "  'loss': np.sum(losses) / len(losses),\n",
            "\n",
            "[test] 1/1 0(s) eta:0(s) loss:0.000000 loss200:0.000000 lr:0.00e+00\n",
            "[test] 1/1 0(s) eta:0(s) loss:0.000000 loss200:0.000000 lr:0.00e+00\n",
            "[test] 1/1 0(s) eta:0(s) loss:0.000000 loss200:0.000000 lr:0.00e+00\n",
            "[test] 1/1 0(s) eta:0(s) loss:0.000000 loss200:0.000000 lr:0.00e+00\n",
            "[{'ids': ['ID_000012eaf'], 'targets': array([[0., 0., 0., 0., 0., 0.]], dtype=float32), 'outputs': array([[1., 0., 0., 0., 0., 0.]], dtype=float32), 'loss': nan}, {'ids': ['ID_000012eaf'], 'targets': array([[0., 0., 0., 0., 0., 0.]], dtype=float32), 'outputs': array([[1., 0., 0., 0., 0., 0.]], dtype=float32), 'loss': nan}, {'ids': ['ID_000012eaf'], 'targets': array([[0., 0., 0., 0., 0., 0.]], dtype=float32), 'outputs': array([[0., 0., 0., 0., 0., 0.]], dtype=float32), 'loss': nan}, {'ids': ['ID_000012eaf'], 'targets': array([[0., 0., 0., 0., 0., 0.]], dtype=float32), 'outputs': array([[1., 0., 0., 0., 0., 0.]], dtype=float32), 'loss': nan}, {'ids': ['ID_000012eaf'], 'targets': array([[0., 0., 0., 0., 0., 0.]], dtype=float32), 'outputs': array([[9.563871e-36, 0.000000e+00, 0.000000e+00, 0.000000e+00,\n",
            "        0.000000e+00, 0.000000e+00]], dtype=float32), 'loss': nan}]\n",
            "saved to ./model/model100/fold0_ep2_test_tta5.pkl\n",
            "benchmark False\n",
            "\n",
            "----- 2023-12-12 17:46:32 -----\n",
            "/content/kaggle-rsna-intracranial-hemorrhage/src/cnn/main.py test ./conf/model100.py --snapshot ../drive/MyDrive/CM_Project_Dataset/fold0_ep3.pt --output ./model/model100/fold0_ep3_test_tta5.pkl --n-tta 5 --fold 0 --gpu 0\n",
            "logpath: ./model/model100/test_fold0.log\n",
            "mode: test\n",
            "workdir: ./model/model100\n",
            "fold: 0\n",
            "batch size: 28\n",
            "acc: 1\n",
            "model: se_resnext50_32x4d\n",
            "pretrained: imagenet\n",
            "not loading optim\n",
            "loaded model from ../drive/MyDrive/CM_Project_Dataset/fold0_ep3.pt\n",
            "dataset_policy: 1\n",
            "window_policy: 4\n",
            "             ID labels    PatientID  ...  PixelRepresentation  brain_ratio  brain_diff\n",
            "0  ID_000012eaf         ID_f15c0eee  ...                    1      0.22364        80.0\n",
            "\n",
            "[1 rows x 15 columns]\n",
            "None\n",
            "applied dataset_policy 1 (1 records now)\n",
            "use default(random) sampler\n",
            "/usr/local/lib/python3.10/dist-packages/torch/utils/data/dataloader.py:557: UserWarning: This DataLoader will create 4 worker processes in total. Our suggested max number of worker in current system is 2, which is smaller than what this DataLoader is going to create. Please be aware that excessive worker creation might get DataLoader running slow or even freeze, lower the worker number to avoid potential slowness/freeze if necessary.\n",
            "  warnings.warn(_create_warning_msg(\n",
            "[test] 1/1 0(s) eta:0(s) loss:0.000000 loss200:0.000000 lr:0.00e+00/content/kaggle-rsna-intracranial-hemorrhage/src/cnn/main.py:208: RuntimeWarning: invalid value encountered in double_scalars\n",
            "  'loss': np.sum(losses) / len(losses),\n",
            "\n",
            "[test] 1/1 0(s) eta:0(s) loss:0.000000 loss200:0.000000 lr:0.00e+00\n",
            "[test] 1/1 0(s) eta:0(s) loss:0.000000 loss200:0.000000 lr:0.00e+00\n",
            "[test] 1/1 0(s) eta:0(s) loss:0.000000 loss200:0.000000 lr:0.00e+00\n",
            "[test] 1/1 0(s) eta:0(s) loss:0.000000 loss200:0.000000 lr:0.00e+00\n",
            "[{'ids': ['ID_000012eaf'], 'targets': array([[0., 0., 0., 0., 0., 0.]], dtype=float32), 'outputs': array([[0., 0., 0., 0., 0., 0.]], dtype=float32), 'loss': nan}, {'ids': ['ID_000012eaf'], 'targets': array([[0., 0., 0., 0., 0., 0.]], dtype=float32), 'outputs': array([[0., 0., 0., 0., 0., 0.]], dtype=float32), 'loss': nan}, {'ids': ['ID_000012eaf'], 'targets': array([[0., 0., 0., 0., 0., 0.]], dtype=float32), 'outputs': array([[0., 0., 0., 0., 0., 0.]], dtype=float32), 'loss': nan}, {'ids': ['ID_000012eaf'], 'targets': array([[0., 0., 0., 0., 0., 0.]], dtype=float32), 'outputs': array([[0., 0., 0., 0., 0., 0.]], dtype=float32), 'loss': nan}, {'ids': ['ID_000012eaf'], 'targets': array([[0., 0., 0., 0., 0., 0.]], dtype=float32), 'outputs': array([[0., 0., 0., 0., 0., 0.]], dtype=float32), 'loss': nan}]\n",
            "saved to ./model/model100/fold0_ep3_test_tta5.pkl\n"
          ]
        }
      ]
    },
    {
      "cell_type": "code",
      "source": [],
      "metadata": {
        "colab": {
          "base_uri": "https://localhost:8080/"
        },
        "id": "8MOjBRFKpi2p",
        "outputId": "8c7fd2e8-20f4-459e-f633-9b404db7bf6b"
      },
      "execution_count": null,
      "outputs": [
        {
          "output_type": "stream",
          "name": "stdout",
          "text": [
            "[[['./model/model100/fold0_ep2_valid_tta5.pkl',\n",
            "   './model/model100/fold0_ep3_valid_tta5.pkl'],\n",
            "  ['./model/model100/fold1_ep2_valid_tta5.pkl',\n",
            "   './model/model100/fold1_ep3_valid_tta5.pkl'],\n",
            "  ['./model/model100/fold2_ep2_valid_tta5.pkl',\n",
            "   './model/model100/fold2_ep3_valid_tta5.pkl'],\n",
            "  ['./model/model100/fold3_ep2_valid_tta5.pkl',\n",
            "   './model/model100/fold3_ep3_valid_tta5.pkl'],\n",
            "  ['./model/model100/fold4_ep2_valid_tta5.pkl',\n",
            "   './model/model100/fold4_ep3_valid_tta5.pkl'],\n",
            "  ['./model/model100/fold5_ep2_valid_tta5.pkl',\n",
            "   './model/model100/fold5_ep3_valid_tta5.pkl'],\n",
            "  ['./model/model100/fold6_ep2_valid_tta5.pkl',\n",
            "   './model/model100/fold6_ep3_valid_tta5.pkl'],\n",
            "  ['./model/model100/fold7_ep2_valid_tta5.pkl',\n",
            "   './model/model100/fold7_ep3_valid_tta5.pkl']],\n",
            " [['./model/model110/fold0_ep2_valid_tta5.pkl',\n",
            "   './model/model110/fold0_ep3_valid_tta5.pkl'],\n",
            "  ['./model/model110/fold1_ep2_valid_tta5.pkl',\n",
            "   './model/model110/fold1_ep3_valid_tta5.pkl'],\n",
            "  ['./model/model110/fold2_ep2_valid_tta5.pkl',\n",
            "   './model/model110/fold2_ep3_valid_tta5.pkl'],\n",
            "  ['./model/model110/fold3_ep2_valid_tta5.pkl',\n",
            "   './model/model110/fold3_ep3_valid_tta5.pkl'],\n",
            "  ['./model/model110/fold4_ep2_valid_tta5.pkl',\n",
            "   './model/model110/fold4_ep3_valid_tta5.pkl'],\n",
            "  ['./model/model110/fold5_ep2_valid_tta5.pkl',\n",
            "   './model/model110/fold5_ep3_valid_tta5.pkl'],\n",
            "  ['./model/model110/fold6_ep2_valid_tta5.pkl',\n",
            "   './model/model110/fold6_ep3_valid_tta5.pkl'],\n",
            "  ['./model/model110/fold7_ep2_valid_tta5.pkl',\n",
            "   './model/model110/fold7_ep3_valid_tta5.pkl']]]\n",
            "[[['./model/model100/fold0_ep2_test_tta5.pkl',\n",
            "   './model/model100/fold0_ep3_test_tta5.pkl'],\n",
            "  ['./model/model100/fold1_ep2_test_tta5.pkl',\n",
            "   './model/model100/fold1_ep3_test_tta5.pkl'],\n",
            "  ['./model/model100/fold2_ep2_test_tta5.pkl',\n",
            "   './model/model100/fold2_ep3_test_tta5.pkl'],\n",
            "  ['./model/model100/fold3_ep2_test_tta5.pkl',\n",
            "   './model/model100/fold3_ep3_test_tta5.pkl'],\n",
            "  ['./model/model100/fold4_ep2_test_tta5.pkl',\n",
            "   './model/model100/fold4_ep3_test_tta5.pkl'],\n",
            "  ['./model/model100/fold5_ep2_test_tta5.pkl',\n",
            "   './model/model100/fold5_ep3_test_tta5.pkl'],\n",
            "  ['./model/model100/fold6_ep2_test_tta5.pkl',\n",
            "   './model/model100/fold6_ep3_test_tta5.pkl'],\n",
            "  ['./model/model100/fold7_ep2_test_tta5.pkl',\n",
            "   './model/model100/fold7_ep3_test_tta5.pkl']],\n",
            " [['./model/model110/fold0_ep2_test_tta5.pkl',\n",
            "   './model/model110/fold0_ep3_test_tta5.pkl'],\n",
            "  ['./model/model110/fold1_ep2_test_tta5.pkl',\n",
            "   './model/model110/fold1_ep3_test_tta5.pkl'],\n",
            "  ['./model/model110/fold2_ep2_test_tta5.pkl',\n",
            "   './model/model110/fold2_ep3_test_tta5.pkl'],\n",
            "  ['./model/model110/fold3_ep2_test_tta5.pkl',\n",
            "   './model/model110/fold3_ep3_test_tta5.pkl'],\n",
            "  ['./model/model110/fold4_ep2_test_tta5.pkl',\n",
            "   './model/model110/fold4_ep3_test_tta5.pkl'],\n",
            "  ['./model/model110/fold5_ep2_test_tta5.pkl',\n",
            "   './model/model110/fold5_ep3_test_tta5.pkl'],\n",
            "  ['./model/model110/fold6_ep2_test_tta5.pkl',\n",
            "   './model/model110/fold6_ep3_test_tta5.pkl'],\n",
            "  ['./model/model110/fold7_ep2_test_tta5.pkl',\n",
            "   './model/model110/fold7_ep3_test_tta5.pkl']]]\n",
            "loading test_raw...\n",
            "/usr/local/lib/python3.10/dist-packages/pydicom/valuerep.py:443: UserWarning: Invalid value for VR UI: 'ID_000012eaf'. Please see <https://dicom.nema.org/medical/dicom/current/output/html/part05.html#table_6.2-1> for allowed values for each VR.\n",
            "  warnings.warn(msg)\n",
            "/usr/local/lib/python3.10/dist-packages/pydicom/valuerep.py:443: UserWarning: Invalid value for VR UI: 'ID_0ab5820b2a'. Please see <https://dicom.nema.org/medical/dicom/current/output/html/part05.html#table_6.2-1> for allowed values for each VR.\n",
            "  warnings.warn(msg)\n",
            "/usr/local/lib/python3.10/dist-packages/pydicom/valuerep.py:443: UserWarning: Invalid value for VR UI: 'ID_30ea2b02d4'. Please see <https://dicom.nema.org/medical/dicom/current/output/html/part05.html#table_6.2-1> for allowed values for each VR.\n",
            "  warnings.warn(msg)\n",
            "loading ./model/model100/fold0_ep2_test_tta5.pkl...\n",
            "Traceback (most recent call last):\n",
            "  File \"/usr/lib/python3.10/runpy.py\", line 196, in _run_module_as_main\n",
            "    return _run_code(code, main_globals, None,\n",
            "  File \"/usr/lib/python3.10/runpy.py\", line 86, in _run_code\n",
            "    exec(code, run_globals)\n",
            "  File \"/content/kaggle-rsna-intracranial-hemorrhage/src/meta/trainer.py\", line 227, in <module>\n",
            "    main()\n",
            "  File \"/content/kaggle-rsna-intracranial-hemorrhage/src/meta/trainer.py\", line 206, in main\n",
            "    test_df = prepare_test_df(args)\n",
            "  File \"/content/kaggle-rsna-intracranial-hemorrhage/src/meta/trainer.py\", line 171, in prepare_test_df\n",
            "    test_prediction = parse_inputs(inputs)\n",
            "  File \"/content/kaggle-rsna-intracranial-hemorrhage/src/postprocess/make_submission.py\", line 49, in parse_inputs\n",
            "    result = parse_inputs(elem, dirname)\n",
            "  File \"/content/kaggle-rsna-intracranial-hemorrhage/src/postprocess/make_submission.py\", line 51, in parse_inputs\n",
            "    result = read_prediction(elem, dirname)\n",
            "  File \"/content/kaggle-rsna-intracranial-hemorrhage/src/postprocess/make_submission.py\", line 40, in read_prediction\n",
            "    with open(path, 'rb') as f:\n",
            "FileNotFoundError: [Errno 2] No such file or directory: './model/model100/fold0_ep2_test_tta5.pkl'\n"
          ]
        }
      ]
    },
    {
      "cell_type": "code",
      "source": [],
      "metadata": {
        "id": "0_8y7IouDgK5"
      },
      "execution_count": null,
      "outputs": []
    }
  ]
}